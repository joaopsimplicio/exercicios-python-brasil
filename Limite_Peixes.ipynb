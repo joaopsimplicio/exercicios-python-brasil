{
  "nbformat": 4,
  "nbformat_minor": 0,
  "metadata": {
    "colab": {
      "name": "Limite_Peixes.ipynb",
      "provenance": []
    },
    "kernelspec": {
      "name": "python3",
      "display_name": "Python 3"
    },
    "language_info": {
      "name": "python"
    }
  },
  "cells": [
    {
      "cell_type": "code",
      "metadata": {
        "id": "Zpg8bo2BhCFo"
      },
      "source": [
        "#14. João Papo-de-Pescador, homem de bem, comprou um microcomputador para controlar o rendimento diário de seu trabalho. Toda vez que ele traz um peso de peixes maior que o estabelecido pelo regulamento de pesca do estado de São Paulo (50 quilos) deve pagar uma multa de R$ 4,00 por quilo excedente. João precisa que você faça um programa que leia a variável peso (peso de peixes) e calcule o excesso. Gravar na variável excesso a quantidade de quilos além do limite e na variável multa o valor da multa que João deverá pagar. Imprima os dados do programa com as mensagens adequadas. \n",
        "\n",
        "peso = float(input('Informe o peso, em quilos, de peixe: '))\n",
        "excesso = peso - 50\n",
        "multa = excesso * 4\n",
        "if (peso > 50):\n",
        "  print('Há excesso de ', excesso, 'quilos')\n",
        "  print('Voce devera pagar uma multa de ', multa, 'reais')\n",
        "else:\n",
        "  print('Você não excedeu o limite de quilos de peixe')"
      ],
      "execution_count": null,
      "outputs": []
    }
  ]
}