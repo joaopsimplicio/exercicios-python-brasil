{
  "nbformat": 4,
  "nbformat_minor": 0,
  "metadata": {
    "colab": {
      "name": "Farenheit_p_Celsius.ipynb",
      "provenance": []
    },
    "kernelspec": {
      "name": "python3",
      "display_name": "Python 3"
    },
    "language_info": {
      "name": "python"
    }
  },
  "cells": [
    {
      "cell_type": "code",
      "metadata": {
        "id": "cNqCE1w6foHS"
      },
      "source": [
        "#9. Faça um Programa que peça a temperatura em graus Fahrenheit, transforme e mostre a temperatura em graus Celsius.\n",
        "\n",
        "far = float(input('Digite a quantidade de graus Farenheit: '))\n",
        "far_pr_celsius = int((5 * ((far - 32) / 9)))\n",
        "print(far, 'graus Farenheit equivalem a aproximadamente ', far_pr_celsius, 'graus Celsius')"
      ],
      "execution_count": null,
      "outputs": []
    }
  ]
}