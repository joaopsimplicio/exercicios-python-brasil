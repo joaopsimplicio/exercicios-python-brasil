{
  "nbformat": 4,
  "nbformat_minor": 0,
  "metadata": {
    "colab": {
      "name": "Dobro_Area_Quadrado.ipynb",
      "provenance": []
    },
    "kernelspec": {
      "name": "python3",
      "display_name": "Python 3"
    },
    "language_info": {
      "name": "python"
    }
  },
  "cells": [
    {
      "cell_type": "code",
      "metadata": {
        "id": "2l5Mc92Dc7-O"
      },
      "source": [
        "#7. Faça um Programa que calcule a área de um quadrado, em seguida mostre o dobro desta área para o usuário. \n",
        "\n",
        "a = float(input('Digite o lado do quadrado: '))\n",
        "area_quadrado = a ** 2\n",
        "print('A area do quadrado de lado ', a, 'é ', area_quadrado)"
      ],
      "execution_count": null,
      "outputs": []
    }
  ]
}