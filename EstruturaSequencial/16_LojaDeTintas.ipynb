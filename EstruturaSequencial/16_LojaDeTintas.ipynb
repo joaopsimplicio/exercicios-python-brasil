{
  "nbformat": 4,
  "nbformat_minor": 0,
  "metadata": {
    "colab": {
      "name": "LojaDeTintas.ipynb",
      "provenance": []
    },
    "kernelspec": {
      "name": "python3",
      "display_name": "Python 3"
    },
    "language_info": {
      "name": "python"
    }
  },
  "cells": [
    {
      "cell_type": "code",
      "metadata": {
        "id": "wh6btWcphjyA"
      },
      "source": [
        "#16. Faça um programa para uma loja de tintas. O programa deverá pedir o tamanho em metros quadrados da área a ser pintada. Considere que a cobertura da tinta é de 1 litro para cada 3 metros quadrados e que a tinta é vendida em latas de 18 litros, que custam R$ 80,00. Informe ao usuário a quantidades de latas de tinta a serem compradas e o preço total. \n",
        "\n",
        "areaPintada = float(input('Diga quantos metros quadrados tem a area a ser pintada: '))\n",
        "litrosDeTinta = areaPintada / 3\n",
        "latas = int(litrosDeTinta / 18)\n",
        "if (litrosDeTinta % 18 != 0):\n",
        "    latas += 1\n",
        "custo = latas * 80\n",
        "\n",
        "print('Voce devera comprar ', latas, 'latas')\n",
        "print('O preço a ser pago e ', custo, 'reais')"
      ],
      "execution_count": null,
      "outputs": []
    }
  ]
}
