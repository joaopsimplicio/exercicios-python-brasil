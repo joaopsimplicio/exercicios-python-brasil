{
  "nbformat": 4,
  "nbformat_minor": 0,
  "metadata": {
    "colab": {
      "name": "Celsius_p_Farenheit.ipynb",
      "provenance": []
    },
    "kernelspec": {
      "name": "python3",
      "display_name": "Python 3"
    },
    "language_info": {
      "name": "python"
    }
  },
  "cells": [
    {
      "cell_type": "code",
      "metadata": {
        "id": "tS9NCr1Cf6BD"
      },
      "source": [
        "#10. Faça um Programa que peça a temperatura em graus Celsius, transforme e mostre em graus Fahrenheit. \n",
        "\n",
        "celsius = float(input('Informe a quantidade de graus Celsius: '))\n",
        "celsius_pr_far = ((celsius / 5) * 9) + 32\n",
        "print(celsius, 'graus Celsius equivalem a ', celsius_pr_far, 'graus Farenheit')"
      ],
      "execution_count": null,
      "outputs": []
    }
  ]
}
