{
  "nbformat": 4,
  "nbformat_minor": 0,
  "metadata": {
    "colab": {
      "name": "Peso_Ideal2.ipynb",
      "provenance": []
    },
    "kernelspec": {
      "name": "python3",
      "display_name": "Python 3"
    },
    "language_info": {
      "name": "python"
    }
  },
  "cells": [
    {
      "cell_type": "code",
      "metadata": {
        "id": "NxFpyRnDgkax"
      },
      "source": [
        "#13. Tendo como dado de entrada a altura (h) de uma pessoa, construa um algoritmo que calcule seu peso ideal, utilizando as seguintes fórmulas:\n",
        "#Para homens: (72.7*h) - 58\n",
        "#Para mulheres: (62.1*h) - 44.7\n",
        "\n",
        "h = float(input('Informe a sua altura: '))\n",
        "sexo = input('Informe o seu sexo(M/F): ')\n",
        "\n",
        "if (sexo == 'M'):\n",
        "    peso_ideal = (72.7 * h) - 58\n",
        "else:\n",
        "    peso_ideal = (62.1 * h) - 44.7\n",
        "\n",
        "print('O seu peso ideal é ', peso_ideal, 'quilogramas')"
      ],
      "execution_count": null,
      "outputs": []
    }
  ]
}
