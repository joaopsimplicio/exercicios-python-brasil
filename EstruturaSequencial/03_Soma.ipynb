{
  "nbformat": 4,
  "nbformat_minor": 0,
  "metadata": {
    "colab": {
      "name": "Soma.ipynb",
      "provenance": []
    },
    "kernelspec": {
      "name": "python3",
      "display_name": "Python 3"
    },
    "language_info": {
      "name": "python"
    }
  },
  "cells": [
    {
      "cell_type": "code",
      "metadata": {
        "id": "we9ZlX-BbyXL",
        "colab": {
          "base_uri": "https://localhost:8080/"
        },
        "outputId": "512791e7-2e08-472c-c5fe-ae87597fdd8d"
      },
      "source": [
        "#3. Faça um Programa que peça dois números e imprima a soma. \n",
        "\n",
        "a = float(input(\"Digite um numero: \"))\n",
        "b = float(input(\"Digite outro numero: \"))\n",
        "print(\"A soma entre \", a, \"e \", b, \"é \", (a + b))"
      ],
      "execution_count": null,
      "outputs": [
        {
          "output_type": "stream",
          "text": [
            "Digite um numero: 2\n",
            "Digite outro numero: 3\n",
            "A soma entre  2.0 e  3.0 é  5.0\n"
          ],
          "name": "stdout"
        }
      ]
    },
    {
      "cell_type": "code",
      "metadata": {
        "id": "sDKlozitbz5N"
      },
      "source": [
        ""
      ],
      "execution_count": null,
      "outputs": []
    }
  ]
}
