{
  "nbformat": 4,
  "nbformat_minor": 0,
  "metadata": {
    "colab": {
      "name": "LojaDeTintas2.ipynb",
      "provenance": []
    },
    "kernelspec": {
      "name": "python3",
      "display_name": "Python 3"
    },
    "language_info": {
      "name": "python"
    }
  },
  "cells": [
    {
      "cell_type": "code",
      "metadata": {
        "id": "iN7EMYJghxnW"
      },
      "source": [
        "#17. Faça um Programa para uma loja de tintas. O programa deverá pedir o tamanho em metros quadrados da área a ser pintada. Considere que a cobertura da tinta é de 1 litro para cada 6 metros quadrados e que a tinta é vendida em latas de 18 litros, que custam R$ 80,00 ou em galões de 3,6 litros, que custam R$ 25,00.\n",
        "#Informe ao usuário as quantidades de tinta a serem compradas e os respectivos preços em 3 situações:\n",
        "#comprar apenas latas de 18 litros;\n",
        "#comprar apenas galões de 3,6 litros;\n",
        "#misturar latas e galões, de forma que o desperdício de tinta seja menor. Acrescente 10% de folga e sempre arredonde os valores para cima, isto é, considere latas cheias.\n",
        "\n",
        "areaPintada = float(input('Diga quantos metros quadrados tem a area a ser pintada: '))\n",
        "meioDeCompra = input('Diga o meio que você prefere comprar (lata/galão): ')\n",
        "\n",
        "litrosDeTinta = areaPintada / 6\n",
        "latas = int(litrosDeTinta / 18)\n",
        "galoes = int(litrosDeTinta / 3.6)\n",
        "if (meioDeCompra == 'lata'):\n",
        "  if (litrosDeTinta % 18 != 0):\n",
        "    latas += 1\n",
        "    custo = latas * 80\n",
        "    print('Voce devera comprar ', latas, 'latas')\n",
        "else:\n",
        "  if (litrosDeTinta % 3.6 != 0):\n",
        "    galoes += 1\n",
        "    custo = galoes * 25\n",
        "    print('Voce devera comprar ', galoes, 'galoes')\n",
        "\n",
        "print('O preço a ser pago e ', custo, 'reais')"
      ],
      "execution_count": null,
      "outputs": []
    }
  ]
}
