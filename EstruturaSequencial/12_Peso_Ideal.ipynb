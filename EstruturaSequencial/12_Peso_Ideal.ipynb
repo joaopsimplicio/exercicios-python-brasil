{
  "nbformat": 4,
  "nbformat_minor": 0,
  "metadata": {
    "colab": {
      "name": "Peso_Ideal.ipynb",
      "provenance": []
    },
    "kernelspec": {
      "name": "python3",
      "display_name": "Python 3"
    },
    "language_info": {
      "name": "python"
    }
  },
  "cells": [
    {
      "cell_type": "code",
      "metadata": {
        "id": "dJpTslOFgVZp"
      },
      "source": [
        "#12. Tendo como dados de entrada a altura de uma pessoa, construa um algoritmo que calcule seu peso ideal, usando a seguinte fórmula: (72.7 * altura) - 58 \n",
        "\n",
        "altura = float(input('Informe a sua altura: '))\n",
        "peso_ideal = (altura * 72.7) - 58\n",
        "print('O seu peso ideal é ', peso_ideal, 'quilogramas')"
      ],
      "execution_count": null,
      "outputs": []
    }
  ]
}
