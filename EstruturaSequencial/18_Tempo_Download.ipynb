{
  "nbformat": 4,
  "nbformat_minor": 0,
  "metadata": {
    "colab": {
      "name": "Tempo_Download.ipynb",
      "provenance": []
    },
    "kernelspec": {
      "name": "python3",
      "display_name": "Python 3"
    },
    "language_info": {
      "name": "python"
    }
  },
  "cells": [
    {
      "cell_type": "code",
      "metadata": {
        "id": "AKtaOFGDiAPK"
      },
      "source": [
        "#18. Faça um programa que peça o tamanho de um arquivo para download (em MB) e a velocidade de um link de Internet (em Mbps), calcule e informe o tempo aproximado de download do arquivo usando este link (em minutos). \n",
        "\n",
        "tamanho = float(input('Informe o tamanho do arquivo (em MB): '))\n",
        "velocidade = float(input('Informe a velocidade de dowload do arquivo (em Mbps): '))\n",
        "tamanhoBits = tamanho * 1024 * 1024 * 8\n",
        "tempoSegundos = tamanhoBits / (velocidade * 1024 * 1024)\n",
        "tempoMinutos = tempoSegundos / 60\n",
        "\n",
        "print('Tempo aproximado de download:', tempoMinutos, 'minutos')"
      ],
      "execution_count": null,
      "outputs": []
    }
  ]
}
