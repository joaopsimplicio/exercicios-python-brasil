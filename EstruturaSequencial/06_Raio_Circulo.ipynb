{
  "nbformat": 4,
  "nbformat_minor": 0,
  "metadata": {
    "colab": {
      "name": "Raio_Circulo.ipynb",
      "provenance": []
    },
    "kernelspec": {
      "name": "python3",
      "display_name": "Python 3"
    },
    "language_info": {
      "name": "python"
    }
  },
  "cells": [
    {
      "cell_type": "code",
      "metadata": {
        "id": "7_Pc9MOWcyAh"
      },
      "source": [
        "#6. Faça um Programa que peça o raio de um círculo, calcule e mostre sua área. \n",
        "\n",
        "raio = float(input(\"Digite o raio do circulo: \"))\n",
        "area_circulo = 3.1415 * (raio ** 2)\n",
        "print(\"A area do circulo de raio \", raio, \"e igual a \", area_circulo)"
      ],
      "execution_count": null,
      "outputs": []
    }
  ]
}
