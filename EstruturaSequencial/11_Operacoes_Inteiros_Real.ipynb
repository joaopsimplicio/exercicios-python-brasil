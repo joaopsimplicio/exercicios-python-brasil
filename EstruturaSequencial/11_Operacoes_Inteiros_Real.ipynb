{
  "nbformat": 4,
  "nbformat_minor": 0,
  "metadata": {
    "colab": {
      "name": "Operacoes_Inteiros_Real.ipynb",
      "provenance": []
    },
    "kernelspec": {
      "name": "python3",
      "display_name": "Python 3"
    },
    "language_info": {
      "name": "python"
    }
  },
  "cells": [
    {
      "cell_type": "code",
      "metadata": {
        "id": "2H23mYHQgIA_"
      },
      "source": [
        "#11. Faça um Programa que peça 2 números inteiros e um número real. Calcule e mostre:\n",
        "#o produto do dobro do primeiro com metade do segundo .\n",
        "#a soma do triplo do primeiro com o terceiro.\n",
        "#o terceiro elevado ao cubo.\n",
        "\n",
        "a = int(input('Digite um número inteiro: '))\n",
        "b = int(input('Digite outro número inteiro: '))\n",
        "c = float(input('Digite um número real: '))-2\n",
        "\n",
        "produto = (2 * a) * ( b / 2)\n",
        "soma = float((3 * a) + c)\n",
        "exp = c ** 3\n",
        "\n",
        "print(produto)\n",
        "print(soma)\n",
        "print(exp)"
      ],
      "execution_count": null,
      "outputs": []
    }
  ]
}
