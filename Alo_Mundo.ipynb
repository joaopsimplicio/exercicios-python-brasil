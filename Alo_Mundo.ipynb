{
  "nbformat": 4,
  "nbformat_minor": 0,
  "metadata": {
    "colab": {
      "name": "Alo_Mundo.ipynb",
      "provenance": []
    },
    "kernelspec": {
      "display_name": "Python 3",
      "name": "python3"
    },
    "language_info": {
      "name": "python"
    }
  },
  "cells": [
    {
      "cell_type": "code",
      "metadata": {
        "colab": {
          "base_uri": "https://localhost:8080/"
        },
        "id": "Xnw3o7N_APmG",
        "outputId": "66f6ba8c-1819-440b-8ed3-4b6cd9e3ded3"
      },
      "source": [
        "#1. Faça um Programa que mostre a mensagem \"Alo mundo\" na tela.\n",
        "print('Alo mundo') "
      ],
      "execution_count": null,
      "outputs": [
        {
          "output_type": "stream",
          "text": [
            "Alo mundo\n"
          ],
          "name": "stdout"
        }
      ]
    }
  ]
}