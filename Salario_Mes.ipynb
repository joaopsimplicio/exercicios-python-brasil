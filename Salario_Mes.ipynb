{
  "nbformat": 4,
  "nbformat_minor": 0,
  "metadata": {
    "colab": {
      "name": "Salario_Mes.ipynb",
      "provenance": []
    },
    "kernelspec": {
      "name": "python3",
      "display_name": "Python 3"
    },
    "language_info": {
      "name": "python"
    }
  },
  "cells": [
    {
      "cell_type": "code",
      "metadata": {
        "id": "5bDrkiR5dIhY"
      },
      "source": [
        "#8. Faça um Programa que pergunte quanto você ganha por hora e o número de horas trabalhadas no mês. Calcule e mostre o total do seu salário no referido mês. \n",
        "\n",
        "mes = input('Informe o mes: ')\n",
        "salario_hora = float(input('Informe quanto voce ganha por hora trabalhada: '))\n",
        "horas = float(input('Informe quantas horas voce trabalhou nesse mes:  '))\n",
        "salario_mes = salario_hora * horas\n",
        "\n",
        "print('O seu salario do mes de ', mes, 'foi de ', salario_mes, 'reais')"
      ],
      "execution_count": null,
      "outputs": []
    },
    {
      "cell_type": "code",
      "metadata": {
        "id": "5nbw3MFcdNdo"
      },
      "source": [
        ""
      ],
      "execution_count": null,
      "outputs": []
    }
  ]
}