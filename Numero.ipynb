{
  "nbformat": 4,
  "nbformat_minor": 0,
  "metadata": {
    "colab": {
      "name": "Numero.ipynb",
      "provenance": []
    },
    "kernelspec": {
      "name": "python3",
      "display_name": "Python 3"
    },
    "language_info": {
      "name": "python"
    }
  },
  "cells": [
    {
      "cell_type": "code",
      "metadata": {
        "colab": {
          "base_uri": "https://localhost:8080/"
        },
        "id": "rAERextebbdw",
        "outputId": "f9754476-5914-4388-c22a-eaf9d7f0981b"
      },
      "source": [
        "#2. Faça um Programa que peça um número e então mostre a mensagem O número informado foi [número].\n",
        "\n",
        "numero = input(\"Digite um numero: \")\n",
        "print(\"O numero informado foi \", numero)"
      ],
      "execution_count": null,
      "outputs": [
        {
          "output_type": "stream",
          "text": [
            "Digite um numero: 2\n",
            "O numero informado foi  2\n"
          ],
          "name": "stdout"
        }
      ]
    },
    {
      "cell_type": "code",
      "metadata": {
        "id": "mbd2Ot-QbkNz"
      },
      "source": [
        ""
      ],
      "execution_count": null,
      "outputs": []
    }
  ]
}