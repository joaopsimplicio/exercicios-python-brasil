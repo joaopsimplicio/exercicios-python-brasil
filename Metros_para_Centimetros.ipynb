{
  "nbformat": 4,
  "nbformat_minor": 0,
  "metadata": {
    "colab": {
      "name": "Metros_para_Centimetros.ipynb",
      "provenance": []
    },
    "kernelspec": {
      "name": "python3",
      "display_name": "Python 3"
    },
    "language_info": {
      "name": "python"
    }
  },
  "cells": [
    {
      "cell_type": "code",
      "metadata": {
        "id": "cHmamyEHcPVN"
      },
      "source": [
        "#5. Faça um Programa que converta metros para centímetros. \n",
        "\n",
        "metros = float(input(\"Escreva a quantidade de metros: \"))\n",
        "centimetros = metros * 100\n",
        "print(metros, \"metros equivalem a \", centimetros)"
      ],
      "execution_count": null,
      "outputs": []
    }
  ]
}