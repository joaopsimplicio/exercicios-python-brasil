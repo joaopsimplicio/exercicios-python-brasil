{
  "nbformat": 4,
  "nbformat_minor": 0,
  "metadata": {
    "colab": {
      "name": "Media_Notas.ipynb",
      "provenance": []
    },
    "kernelspec": {
      "name": "python3",
      "display_name": "Python 3"
    },
    "language_info": {
      "name": "python"
    }
  },
  "cells": [
    {
      "cell_type": "code",
      "metadata": {
        "id": "MkoLcymbb-tv"
      },
      "source": [
        "#4. Faça um Programa que peça as 4 notas bimestrais e mostre a média. \n",
        "\n",
        "n1 = float(input(\"Nota 1: \"))\n",
        "n2 = float(input(\"Nota 2: \"))\n",
        "n3 = float(input(\"Nota 3: \"))\n",
        "n4 = float(input(\"Nota 4: \"))\n",
        "\n",
        "media = (n1 + n2 + n3 + n4)/4\n",
        "\n",
        "print(\"A média desse aluno é igual a \", media)"
      ],
      "execution_count": null,
      "outputs": []
    },
    {
      "cell_type": "code",
      "metadata": {
        "id": "58mj6-yfcBWr"
      },
      "source": [
        ""
      ],
      "execution_count": null,
      "outputs": []
    }
  ]
}