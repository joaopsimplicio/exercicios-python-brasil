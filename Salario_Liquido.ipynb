{
  "nbformat": 4,
  "nbformat_minor": 0,
  "metadata": {
    "colab": {
      "name": "Salario_Liquido.ipynb",
      "provenance": []
    },
    "kernelspec": {
      "name": "python3",
      "display_name": "Python 3"
    },
    "language_info": {
      "name": "python"
    }
  },
  "cells": [
    {
      "cell_type": "code",
      "metadata": {
        "id": "BxDjXtYhha7i"
      },
      "source": [
        "#15. Faça um Programa que pergunte quanto você ganha por hora e o número de horas trabalhadas no mês. Calcule e mostre o total do seu salário no referido mês, sabendo-se que são descontados 11% para o Imposto de Renda, 8% para o INSS e 5% para o sindicato, faça um programa que nos dê:\n",
        "\n",
        "#salário bruto.\n",
        "#quanto pagou ao INSS.\n",
        "#quanto pagou ao sindicato.\n",
        "#o salário líquido.\n",
        "\n",
        "salario_hora = float(input('Informe quanto voce ganha por hora trabalhada: '))\n",
        "horas = float(input('Informe quantas horas voce trabalhou nesse mes:  '))\n",
        "\n",
        "salario_bruto = salario_hora * horas\n",
        "impostoRenda = salario_bruto * 0.11\n",
        "inss = salario_bruto * 0.08\n",
        "sindicato = salario_bruto * 0.05\n",
        "salarioLiquido = salario_bruto - impostoRenda - inss - sindicato\n",
        "\n",
        "print('Salario Bruto: ', salario_bruto, 'reais')\n",
        "print('Imposto de Renda: ', impostoRenda, 'reais')\n",
        "print('INSS: ', inss, 'reais')\n",
        "print('Sindicato: ', sindicato, 'reais')\n",
        "print('Salario Liquido: ', salarioLiquido, 'reais')"
      ],
      "execution_count": null,
      "outputs": []
    }
  ]
}